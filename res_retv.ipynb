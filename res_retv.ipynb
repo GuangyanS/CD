{
 "cells": [
  {
   "cell_type": "code",
   "execution_count": 2,
   "metadata": {},
   "outputs": [],
   "source": [
    "import json\n",
    "import csv"
   ]
  },
  {
   "cell_type": "code",
   "execution_count": 3,
   "metadata": {},
   "outputs": [],
   "source": [
    "res_path = '../lab_rs/'\n",
    "dataset_list = ['StrategyQA','coinflip','cities','common','counterfact','STSA','IMDb','sarcasm']"
   ]
  },
  {
   "cell_type": "code",
   "execution_count": 4,
   "metadata": {},
   "outputs": [],
   "source": [
    "def LoadDataset(filename):\n",
    "    with open(filename,'r+') as f:\n",
    "        read_dict = f.read()\n",
    "        f.close()\n",
    "    read_dict = json.loads(read_dict)\n",
    "    return read_dict"
   ]
  },
  {
   "cell_type": "code",
   "execution_count": 10,
   "metadata": {},
   "outputs": [
    {
     "name": "stdout",
     "output_type": "stream",
     "text": [
      "noise=noise model=gemma-7b quant=8\n",
      "cities &0.9549&0.9922&0.953\n",
      "cities &0.9733&0.997&0.9726\n",
      "cities &0.9816&0.9997&0.9813\n",
      "cities &0.995&1.0&0.995\n",
      "cities &0.5927&0.6253&0.6039\n",
      "common &0.751&0.6894&0.1101\n",
      "common &0.7594&0.7121&0.1842\n",
      "common &0.7666&0.7361&0.2735\n",
      "common &0.7699&0.7464&0.2993\n",
      "common &0.7377&0.5798&0.0642\n"
     ]
    }
   ],
   "source": [
    "noise = 'noise'\n",
    "model = 'gemma-7b'\n",
    "quant = 8\n",
    "layer_th = [-1, 23, 19, 13, 0] # 28\n",
    "print(f\"noise={noise} model={model} quant={quant}\")\n",
    "for data in dataset_list:\n",
    "    file_path = res_path + f\"{data}_{model}_{quant}_{noise}_LR.json\"\n",
    "    content = ''\n",
    "    try:\n",
    "        data_dict = LoadDataset(file_path)\n",
    "        for layer in layer_th:\n",
    "            acc = round(data_dict['Acc'][layer],4)\n",
    "            auc = round(data_dict['AUC'][layer],4)\n",
    "            f1 = round(data_dict['F1'][layer],4)\n",
    "            print(data, f\"&{acc}&{auc}&{f1}\")\n",
    "    except:\n",
    "        continue\n"
   ]
  }
 ],
 "metadata": {
  "kernelspec": {
   "display_name": "Python 3",
   "language": "python",
   "name": "python3"
  },
  "language_info": {
   "codemirror_mode": {
    "name": "ipython",
    "version": 3
   },
   "file_extension": ".py",
   "mimetype": "text/x-python",
   "name": "python",
   "nbconvert_exporter": "python",
   "pygments_lexer": "ipython3",
   "version": "3.8.10"
  }
 },
 "nbformat": 4,
 "nbformat_minor": 2
}
